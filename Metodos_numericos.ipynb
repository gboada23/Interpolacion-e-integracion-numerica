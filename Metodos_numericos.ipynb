{
  "nbformat": 4,
  "nbformat_minor": 0,
  "metadata": {
    "colab": {
      "provenance": [],
      "authorship_tag": "ABX9TyNy4oJ7+Jp61AVTv3Hcf5IK",
      "include_colab_link": true
    },
    "kernelspec": {
      "name": "python3",
      "display_name": "Python 3"
    },
    "language_info": {
      "name": "python"
    }
  },
  "cells": [
    {
      "cell_type": "markdown",
      "metadata": {
        "id": "view-in-github",
        "colab_type": "text"
      },
      "source": [
        "<a href=\"https://colab.research.google.com/github/gboada23/Interpolacion-e-integracion-numerica/blob/main/Metodos_numericos.ipynb\" target=\"_parent\"><img src=\"https://colab.research.google.com/assets/colab-badge.svg\" alt=\"Open In Colab\"/></a>"
      ]
    },
    {
      "cell_type": "code",
      "execution_count": 1,
      "metadata": {
        "id": "fHbhbxf7A7Ye"
      },
      "outputs": [],
      "source": [
        "import pandas as pd\n",
        "import numpy as np\n",
        "import math"
      ]
    },
    {
      "cell_type": "markdown",
      "source": [
        "## **1. Explıque por que en el metodo de biseccion se usa la formula $a+\\frac{b-a}{2}$ para el calculo del punto medio y no $\\frac{a + b}{2}$. Apoye su conclusion con un ejemplo.**"
      ],
      "metadata": {
        "id": "6xTCxYIJlgJ-"
      }
    },
    {
      "cell_type": "markdown",
      "source": [
        "Ambas se pueden usar para calcular el punto medio en el método de bisección. La razón por la que a veces se prefiere usar  $a+\\frac{b-a}{2}$ en ciertos contextos computacionales es para evitar posibles desbordamientos aritméticos.\n",
        "\n",
        "Por ejemplo Imaginemos que estamos trabajando con números muy grandes en una máquina con una precisión finita.\n",
        "\n",
        "Supongamos que $ a = 1 $ y  b   es el valor máximo representable en el sistema numérico (por ejemplo, el valor máximo de un entero de 32 bits).\n",
        "\n",
        "Usando la fórmula  $c = \\frac{a + b}{2}$:\n",
        "\n",
        " c = $\\frac{1 + \\text{MAX_VAL}}{2} $\n",
        "\n",
        "Podríamos experimentar un desbordamiento al sumar 1 con el valor máximo, ya que superaría la representación máxima permitida.\n",
        "\n",
        "Por otro lado, usando la fórmula $ c = a + \\frac{b - a}{2} $:\n",
        "\n",
        " c = 1 + $\\frac{\\text{MAX_VAL} - 1}{2}$\n",
        "\n",
        "Aquí, estamos evitando la suma directa de  a  y  b , y por lo tanto, prevenimos el potencial desbordamiento.\n",
        "\n",
        "Por supuesto, en la mayoría de las situaciones prácticas y con los sistemas numéricos modernos, la fórmula \\$ c = \\frac{a + b}{2} \\$ funcionará perfectamente. Sin embargo, en contextos donde el desbordamiento aritmético es una preocupación, la fórmula alternativa puede ser preferible.\n",
        "\n",
        "#### Un ejemplo seria el siguiente\n"
      ],
      "metadata": {
        "id": "ahzknBQJpBbd"
      }
    },
    {
      "cell_type": "code",
      "source": [
        "a = 14**50\n",
        "b = 21**50\n",
        "# a+b/2\n",
        "display((a + b )// 2)\n",
        "# a+ (b-a)/2\n",
        "display(a + (b-a)//2)"
      ],
      "metadata": {
        "colab": {
          "base_uri": "https://localhost:8080/",
          "height": 52
        },
        "id": "TuuN-70Ile27",
        "outputId": "3889fdcd-0853-4382-e32a-ba6a319d7be3"
      },
      "execution_count": 2,
      "outputs": [
        {
          "output_type": "display_data",
          "data": {
            "text/plain": [
              "645557218537805325181446805382696766164436256689144978619957864188"
            ]
          },
          "metadata": {}
        },
        {
          "output_type": "display_data",
          "data": {
            "text/plain": [
              "645557218537805325181446805382696766164436256689144978619957864188"
            ]
          },
          "metadata": {}
        }
      ]
    },
    {
      "cell_type": "markdown",
      "source": [
        "### **Conclusiones**\n",
        "El resultado es igual pero en otros sistemas el primer metodo causaria un debordamiento Pero en Python, debido a su gestión de memoria para enteros, esto no causará un desbordamiento per se. Sin embargo, estos cálculos pueden consumir una gran cantidad de memoria y afectar el rendimiento, especialmente si continúas realizando operaciones aritméticas con estos números extremadamente grandes."
      ],
      "metadata": {
        "id": "taNWTRu6u7Uu"
      }
    },
    {
      "cell_type": "markdown",
      "source": [
        "## **2. ¿Cuales criterios de parada puede usarse en el metodo de biseccion ?**"
      ],
      "metadata": {
        "id": "B-QZtWMovkjC"
      }
    },
    {
      "cell_type": "markdown",
      "source": [
        "El método de bisección es un método iterativo para encontrar las raíces de una función. Dado que es iterativo, es necesario definir criterios de parada para saber cuándo detener el proceso y considerar que se ha encontrado una solución lo suficientemente buena. Aquí hay varios criterios de parada que pueden ser utilizados en el método de bisección:\n",
        "\n",
        "1. **Número Máximo de Iteraciones**: Se puede definir un número máximo de iteraciones para evitar que el método se ejecute indefinidamente en caso de que no converja.\n",
        "\n",
        "2. **Tolerancia de la Raíz**: Detener el método cuando el intervalo $[a, b]$ sea lo suficientemente pequeño. Es decir, cuando $|b - a| < \\epsilon$, donde $\\epsilon$ es una tolerancia pequeña predefinida.\n",
        "\n",
        "3. **Tolerancia de la Función**: Detener el proceso cuando el valor de la función en el punto medio sea lo suficientemente cercano a cero, es decir, $|f(c)| < \\delta$, donde $c$ es el punto medio del intervalo y $\\delta$ es otra pequeña tolerancia predefinida.\n",
        "\n",
        "4. **Criterio Combinado**: A veces, se utiliza una combinación de los criterios anteriores para garantizar tanto la precisión como la eficiencia.\n",
        "\n",
        "Estos criterios ayudan a garantizar que el método de bisección no solo encuentre una solución, sino que la solución sea lo suficientemente precisa según lo determinado por las necesidades del problema en cuestión. La elección del criterio de parada adecuado depende en gran medida del problema específico y de las necesidades de precisión.\n"
      ],
      "metadata": {
        "id": "Y8KRY0Myvjph"
      }
    },
    {
      "cell_type": "markdown",
      "source": [
        "## **3. Programe el metodo de biseccion y escoja un problema en el que pueda usar dicho metodo. Calcule el el numero de iteraciones necesarias para la convergencia y compare con los resultados obtenidos con su codigo.**"
      ],
      "metadata": {
        "id": "8VMcd8oiwg9h"
      }
    },
    {
      "cell_type": "code",
      "source": [
        "def biseccion(f, a, b, tol=1e-5, max_iter=1000):\n",
        "    if f(a) * f(b) > 0:\n",
        "        raise ValueError(\"f(a) y f(b) deben tener signos opuestos.\")\n",
        "    iteraciones = 0\n",
        "    while (b - a) / 2 > tol and iteraciones < max_iter:\n",
        "        c = a + ((b-a)/ 2)\n",
        "        if f(c) == 0:\n",
        "            break  # encontramos exactamente la raíz\n",
        "        elif f(c) * f(a) < 0:\n",
        "            b = c\n",
        "        else:\n",
        "            a = c\n",
        "        iteraciones += 1\n",
        "    return a + ((b-a)/ 2), iteraciones"
      ],
      "metadata": {
        "id": "0vypb7B80DZI"
      },
      "execution_count": 3,
      "outputs": []
    },
    {
      "cell_type": "markdown",
      "source": [
        "**Problema donde se puede usar dicho metodo de la funcion**\n",
        "$$f(x)=x^3-4x^2-7x+10$$"
      ],
      "metadata": {
        "id": "QdL-d9tz1XjI"
      }
    },
    {
      "cell_type": "code",
      "source": [
        "def f(x):\n",
        "    return x**3 - 4*x**2 - 7*x + 10"
      ],
      "metadata": {
        "id": "H5GA238s2rmn"
      },
      "execution_count": 4,
      "outputs": []
    },
    {
      "cell_type": "markdown",
      "source": [
        "### Metodo para allar el numero de iteraciones estimadas que deberian cumplirse para hallar la raiz\n",
        "### $n≥ \\frac{log(b−a)−log(tolerancia)}{log(2)}$\n",
        "​\n",
        " Ahora lo aplicamos en codigo"
      ],
      "metadata": {
        "id": "0pq1eWrF10MM"
      }
    },
    {
      "cell_type": "code",
      "source": [
        "def estimar_iteraciones(a, b, tolerancia):\n",
        "    return (math.log(b - a) - math.log(tolerancia)) / math.log(2)\n",
        "# Tomemos un intervalo [a, b] = [1, 4] donde sabemos que hay una raíz.\n",
        "a, b = 1, 4\n",
        "raiz, num_iter = biseccion(f, a, b)\n",
        "tolerancia = 10**-5\n",
        "n = estimar_iteraciones(a, b, tolerancia)\n",
        "print(f\"La raíz obtenida por el metodo de biseccion es: {round(raiz,2)}\")\n",
        "print(f\"Numero de iteraciones estimadas es de {round(n,2)}\")\n",
        "print(f\"Número de iteraciones realizadas para la funcion con el metodo de biseccion es  {num_iter}\")"
      ],
      "metadata": {
        "id": "RfULOrnu3j8I",
        "colab": {
          "base_uri": "https://localhost:8080/"
        },
        "outputId": "ce9ad69b-7853-4fa1-c13f-86ca00014436"
      },
      "execution_count": 5,
      "outputs": [
        {
          "output_type": "stream",
          "name": "stdout",
          "text": [
            "La raíz obtenida por el metodo de biseccion es: 4.0\n",
            "Numero de iteraciones estimadas es de 18.19\n",
            "Número de iteraciones realizadas para la funcion con el metodo de biseccion es  18\n"
          ]
        }
      ]
    },
    {
      "cell_type": "markdown",
      "source": [
        "\n",
        "## **Conclusion**\n",
        "\n",
        "Podemos asegurar que usando el metodo de biseccion para la funcion $$f(x)=x^3-4x^2-7x+10$$ logramos obtener la raiz $X=4$ en 18 iteraciones con nuestro codigo.\n",
        "\n",
        "Por esa razon al usar la formula para obtener el numero de iteraciones necesarias $n≥ \\frac{log(b−a)−log(tolerancia)}{log(2)} = 18.19$ entonces concluimos que el metodo y las iteraciones son eficientes y concuerda con las iteracione estimadas."
      ],
      "metadata": {
        "id": "LJRS2Iyc_xNN"
      }
    },
    {
      "cell_type": "markdown",
      "source": [
        "## **4. Escoja una funcion y escribala miınimo en cuatro formas de punto fijo. Usa el algoritmo 2.2 para obtener un punto fijo de la funcion. ¿De las cuatro formas cual fue la mejor? Apoye su conclusion en los teoremas del capıtulo.**"
      ],
      "metadata": {
        "id": "eAxjE1m7GX4n"
      }
    },
    {
      "cell_type": "markdown",
      "source": [
        "## Funciones g(x) escogida $$ x^3 - 6x^2 + 11x - 6 = 0$$\n",
        "\n",
        "Reescribimos esta ecuación en la forma x = g(x) en cuatro maneras diferentes segun lo pide el ejercicio:\n",
        "\n",
        "1. **Despejando $x^3$:**  \n",
        "   $$ x^3 = 6x^2 - 11x + 6 $$\n",
        "   $$ x = \\sqrt[3]{6x^2 - 11x + 6} $$\n",
        "   Así que, $ g_1(x) = \\sqrt[3]{6x^2 - 11x + 6} $.\n",
        "\n",
        "2. **Despejando $x^2$:**  \n",
        "   $$ x^2 = \\frac{x^3 + 11x - 6}{6}  $$\n",
        "   $$ x = \\sqrt{\\frac{x^3 + 11x - 6}{6}}  $$\n",
        "   Así que, $ g_2(x) = \\sqrt{\\frac{x^3 + 11x - 6}{6}} $.\n",
        "\n",
        "3. **Despejando x:**  \n",
        "   $$ x = \\frac{x^3 - 6x^2 + 6}{11} $$\n",
        "   Así que, $ g_3(x) = \\frac{x^3 - 6x^2 + 6}{11} $.\n",
        "\n",
        "4. **Método de Newton para la ecuación original**:  \n",
        " La derivada de $x^3 - 6x^2 + 11x - 6$ es $$3x^2 - 12x + 11$$\n",
        "\n",
        " Este es un método iterativo para encontrar raíces de ecuaciones\n",
        "   entonces: $$ x = x - \\frac{x^3 - 6x^2 + 11x - 6}{3x^2 - 12x + 11} $$\n",
        "   Así que, $ g_4(x)$ = $x - \\frac{x^3 - 6x^2 + 11x - 6}{3x^2 - 12x + 11} $.\n",
        "\n",
        "\n"
      ],
      "metadata": {
        "id": "tzx2SExtCTs9"
      }
    },
    {
      "cell_type": "markdown",
      "source": [
        "## Raices reales de la funcion original\n",
        "$x_1 = 3 $\n",
        "\n",
        "$x_2 = 2  $\n",
        "\n",
        "$x_3 = 1$"
      ],
      "metadata": {
        "id": "fTe1xX0OklWx"
      }
    },
    {
      "cell_type": "code",
      "source": [
        "def g1(x):\n",
        "    return (6*x**2 - 11*x + 6)**(1/3)\n",
        "def g2(x):\n",
        "    return ((x**3 + 11*x - 6) / 6)**(1/2)\n",
        "def g3(x):\n",
        "    return (x**3 - 6*x**2 + 6) / 11\n",
        "def g4(x):\n",
        "    return x - (x**3 - 6*x**2 + 11*x - 6) / (3*x**2 - 12*x + 11)\n",
        "def punto_fijo(g, p0, iteraciones, tol=1e-6):\n",
        "    x = p0\n",
        "    results = [p0]\n",
        "    for i in range(iteraciones):\n",
        "      try:\n",
        "        p = g(x)\n",
        "        results.append(p)\n",
        "\n",
        "        if abs(p - x) < tol:\n",
        "          break\n",
        "      except OverflowError:\n",
        "        print(f\"Desbordamiento detectado en la función g en la iteración {i+1}.\")\n",
        "        results.append(np.nan)  # Añade NaN para el valor que causó desbordamiento si lo hubo\n",
        "        break  # Termina las iteraciones\n",
        "      x = p\n",
        "    return results\n",
        "p0 = 1.5\n",
        "iteraciones = 30\n",
        "resultados_g1 = punto_fijo(g1, p0, iteraciones)\n",
        "resultados_g2 = punto_fijo(g2, p0, iteraciones)\n",
        "resultados_g3 = punto_fijo(g3, p0, iteraciones)\n",
        "resultados_g4 = punto_fijo(g4, p0, iteraciones)\n",
        "longitud_maxima = max(len(resultados_g1), len(resultados_g2), len(resultados_g3), len(resultados_g4))\n",
        "# Función para rellenar las listas hasta la longitud máxima con NaN\n",
        "def pad_with_nan(lst, longitud_maxima):\n",
        "  return lst + [np.nan] * (longitud_maxima - len(lst))\n",
        "resultados_g1 = pad_with_nan(resultados_g1, longitud_maxima)\n",
        "resultados_g2 = pad_with_nan(resultados_g2, longitud_maxima)\n",
        "resultados_g3 = pad_with_nan(resultados_g3, longitud_maxima)\n",
        "resultados_g4 = pad_with_nan(resultados_g4, longitud_maxima)\n",
        "# Crea el DataFrame\n",
        "df = pd.DataFrame({'g_1(x)': resultados_g1,'g_2(x)': resultados_g2,'g_3(x)': resultados_g3,'g_4(x)': resultados_g4})\n",
        "df = df.fillna(\"\")\n",
        "df"
      ],
      "metadata": {
        "id": "rwiqS_LNBEIW",
        "colab": {
          "base_uri": "https://localhost:8080/",
          "height": 1000
        },
        "outputId": "87d70524-80e4-4ff2-e364-abb4388eba03"
      },
      "execution_count": 6,
      "outputs": [
        {
          "output_type": "execute_result",
          "data": {
            "text/plain": [
              "      g_1(x)    g_2(x)    g_3(x) g_4(x)\n",
              "0        1.5  1.500000       1.5    1.5\n",
              "1    1.44225  1.520691    -0.375    3.0\n",
              "2   1.377841  1.540790  0.463956    3.0\n",
              "3    1.30734  1.560265  0.437122       \n",
              "4   1.232906  1.579096  0.448825       \n",
              "5   1.159376  1.597269  0.443796       \n",
              "6   1.094679  1.614777  0.445971       \n",
              "7   1.047223  1.631619  0.445033       \n",
              "8   1.019806  1.647800  0.445438       \n",
              "9   1.007333  1.663329  0.445263       \n",
              "10  1.002545  1.678218  0.445338       \n",
              "11  1.000861  1.692481  0.445306       \n",
              "12  1.000288  1.706136   0.44532       \n",
              "13  1.000096  1.719199  0.445314       \n",
              "14  1.000032  1.731692  0.445316       \n",
              "15  1.000011  1.743633  0.445315       \n",
              "16  1.000004  1.755043  0.445316       \n",
              "17  1.000001  1.765942                 \n",
              "18       1.0  1.776351                 \n",
              "19            1.786291                 \n",
              "20            1.795780                 \n",
              "21            1.804839                 \n",
              "22            1.813486                 \n",
              "23            1.821740                 \n",
              "24            1.829618                 \n",
              "25            1.837137                 \n",
              "26            1.844315                 \n",
              "27            1.851166                 \n",
              "28            1.857706                 \n",
              "29            1.863950                 \n",
              "30            1.869910                 "
            ],
            "text/html": [
              "\n",
              "  <div id=\"df-a625bcd8-978c-4d4a-954b-3ae57a070d28\" class=\"colab-df-container\">\n",
              "    <div>\n",
              "<style scoped>\n",
              "    .dataframe tbody tr th:only-of-type {\n",
              "        vertical-align: middle;\n",
              "    }\n",
              "\n",
              "    .dataframe tbody tr th {\n",
              "        vertical-align: top;\n",
              "    }\n",
              "\n",
              "    .dataframe thead th {\n",
              "        text-align: right;\n",
              "    }\n",
              "</style>\n",
              "<table border=\"1\" class=\"dataframe\">\n",
              "  <thead>\n",
              "    <tr style=\"text-align: right;\">\n",
              "      <th></th>\n",
              "      <th>g_1(x)</th>\n",
              "      <th>g_2(x)</th>\n",
              "      <th>g_3(x)</th>\n",
              "      <th>g_4(x)</th>\n",
              "    </tr>\n",
              "  </thead>\n",
              "  <tbody>\n",
              "    <tr>\n",
              "      <th>0</th>\n",
              "      <td>1.5</td>\n",
              "      <td>1.500000</td>\n",
              "      <td>1.5</td>\n",
              "      <td>1.5</td>\n",
              "    </tr>\n",
              "    <tr>\n",
              "      <th>1</th>\n",
              "      <td>1.44225</td>\n",
              "      <td>1.520691</td>\n",
              "      <td>-0.375</td>\n",
              "      <td>3.0</td>\n",
              "    </tr>\n",
              "    <tr>\n",
              "      <th>2</th>\n",
              "      <td>1.377841</td>\n",
              "      <td>1.540790</td>\n",
              "      <td>0.463956</td>\n",
              "      <td>3.0</td>\n",
              "    </tr>\n",
              "    <tr>\n",
              "      <th>3</th>\n",
              "      <td>1.30734</td>\n",
              "      <td>1.560265</td>\n",
              "      <td>0.437122</td>\n",
              "      <td></td>\n",
              "    </tr>\n",
              "    <tr>\n",
              "      <th>4</th>\n",
              "      <td>1.232906</td>\n",
              "      <td>1.579096</td>\n",
              "      <td>0.448825</td>\n",
              "      <td></td>\n",
              "    </tr>\n",
              "    <tr>\n",
              "      <th>5</th>\n",
              "      <td>1.159376</td>\n",
              "      <td>1.597269</td>\n",
              "      <td>0.443796</td>\n",
              "      <td></td>\n",
              "    </tr>\n",
              "    <tr>\n",
              "      <th>6</th>\n",
              "      <td>1.094679</td>\n",
              "      <td>1.614777</td>\n",
              "      <td>0.445971</td>\n",
              "      <td></td>\n",
              "    </tr>\n",
              "    <tr>\n",
              "      <th>7</th>\n",
              "      <td>1.047223</td>\n",
              "      <td>1.631619</td>\n",
              "      <td>0.445033</td>\n",
              "      <td></td>\n",
              "    </tr>\n",
              "    <tr>\n",
              "      <th>8</th>\n",
              "      <td>1.019806</td>\n",
              "      <td>1.647800</td>\n",
              "      <td>0.445438</td>\n",
              "      <td></td>\n",
              "    </tr>\n",
              "    <tr>\n",
              "      <th>9</th>\n",
              "      <td>1.007333</td>\n",
              "      <td>1.663329</td>\n",
              "      <td>0.445263</td>\n",
              "      <td></td>\n",
              "    </tr>\n",
              "    <tr>\n",
              "      <th>10</th>\n",
              "      <td>1.002545</td>\n",
              "      <td>1.678218</td>\n",
              "      <td>0.445338</td>\n",
              "      <td></td>\n",
              "    </tr>\n",
              "    <tr>\n",
              "      <th>11</th>\n",
              "      <td>1.000861</td>\n",
              "      <td>1.692481</td>\n",
              "      <td>0.445306</td>\n",
              "      <td></td>\n",
              "    </tr>\n",
              "    <tr>\n",
              "      <th>12</th>\n",
              "      <td>1.000288</td>\n",
              "      <td>1.706136</td>\n",
              "      <td>0.44532</td>\n",
              "      <td></td>\n",
              "    </tr>\n",
              "    <tr>\n",
              "      <th>13</th>\n",
              "      <td>1.000096</td>\n",
              "      <td>1.719199</td>\n",
              "      <td>0.445314</td>\n",
              "      <td></td>\n",
              "    </tr>\n",
              "    <tr>\n",
              "      <th>14</th>\n",
              "      <td>1.000032</td>\n",
              "      <td>1.731692</td>\n",
              "      <td>0.445316</td>\n",
              "      <td></td>\n",
              "    </tr>\n",
              "    <tr>\n",
              "      <th>15</th>\n",
              "      <td>1.000011</td>\n",
              "      <td>1.743633</td>\n",
              "      <td>0.445315</td>\n",
              "      <td></td>\n",
              "    </tr>\n",
              "    <tr>\n",
              "      <th>16</th>\n",
              "      <td>1.000004</td>\n",
              "      <td>1.755043</td>\n",
              "      <td>0.445316</td>\n",
              "      <td></td>\n",
              "    </tr>\n",
              "    <tr>\n",
              "      <th>17</th>\n",
              "      <td>1.000001</td>\n",
              "      <td>1.765942</td>\n",
              "      <td></td>\n",
              "      <td></td>\n",
              "    </tr>\n",
              "    <tr>\n",
              "      <th>18</th>\n",
              "      <td>1.0</td>\n",
              "      <td>1.776351</td>\n",
              "      <td></td>\n",
              "      <td></td>\n",
              "    </tr>\n",
              "    <tr>\n",
              "      <th>19</th>\n",
              "      <td></td>\n",
              "      <td>1.786291</td>\n",
              "      <td></td>\n",
              "      <td></td>\n",
              "    </tr>\n",
              "    <tr>\n",
              "      <th>20</th>\n",
              "      <td></td>\n",
              "      <td>1.795780</td>\n",
              "      <td></td>\n",
              "      <td></td>\n",
              "    </tr>\n",
              "    <tr>\n",
              "      <th>21</th>\n",
              "      <td></td>\n",
              "      <td>1.804839</td>\n",
              "      <td></td>\n",
              "      <td></td>\n",
              "    </tr>\n",
              "    <tr>\n",
              "      <th>22</th>\n",
              "      <td></td>\n",
              "      <td>1.813486</td>\n",
              "      <td></td>\n",
              "      <td></td>\n",
              "    </tr>\n",
              "    <tr>\n",
              "      <th>23</th>\n",
              "      <td></td>\n",
              "      <td>1.821740</td>\n",
              "      <td></td>\n",
              "      <td></td>\n",
              "    </tr>\n",
              "    <tr>\n",
              "      <th>24</th>\n",
              "      <td></td>\n",
              "      <td>1.829618</td>\n",
              "      <td></td>\n",
              "      <td></td>\n",
              "    </tr>\n",
              "    <tr>\n",
              "      <th>25</th>\n",
              "      <td></td>\n",
              "      <td>1.837137</td>\n",
              "      <td></td>\n",
              "      <td></td>\n",
              "    </tr>\n",
              "    <tr>\n",
              "      <th>26</th>\n",
              "      <td></td>\n",
              "      <td>1.844315</td>\n",
              "      <td></td>\n",
              "      <td></td>\n",
              "    </tr>\n",
              "    <tr>\n",
              "      <th>27</th>\n",
              "      <td></td>\n",
              "      <td>1.851166</td>\n",
              "      <td></td>\n",
              "      <td></td>\n",
              "    </tr>\n",
              "    <tr>\n",
              "      <th>28</th>\n",
              "      <td></td>\n",
              "      <td>1.857706</td>\n",
              "      <td></td>\n",
              "      <td></td>\n",
              "    </tr>\n",
              "    <tr>\n",
              "      <th>29</th>\n",
              "      <td></td>\n",
              "      <td>1.863950</td>\n",
              "      <td></td>\n",
              "      <td></td>\n",
              "    </tr>\n",
              "    <tr>\n",
              "      <th>30</th>\n",
              "      <td></td>\n",
              "      <td>1.869910</td>\n",
              "      <td></td>\n",
              "      <td></td>\n",
              "    </tr>\n",
              "  </tbody>\n",
              "</table>\n",
              "</div>\n",
              "    <div class=\"colab-df-buttons\">\n",
              "\n",
              "  <div class=\"colab-df-container\">\n",
              "    <button class=\"colab-df-convert\" onclick=\"convertToInteractive('df-a625bcd8-978c-4d4a-954b-3ae57a070d28')\"\n",
              "            title=\"Convert this dataframe to an interactive table.\"\n",
              "            style=\"display:none;\">\n",
              "\n",
              "  <svg xmlns=\"http://www.w3.org/2000/svg\" height=\"24px\" viewBox=\"0 -960 960 960\">\n",
              "    <path d=\"M120-120v-720h720v720H120Zm60-500h600v-160H180v160Zm220 220h160v-160H400v160Zm0 220h160v-160H400v160ZM180-400h160v-160H180v160Zm440 0h160v-160H620v160ZM180-180h160v-160H180v160Zm440 0h160v-160H620v160Z\"/>\n",
              "  </svg>\n",
              "    </button>\n",
              "\n",
              "  <style>\n",
              "    .colab-df-container {\n",
              "      display:flex;\n",
              "      gap: 12px;\n",
              "    }\n",
              "\n",
              "    .colab-df-convert {\n",
              "      background-color: #E8F0FE;\n",
              "      border: none;\n",
              "      border-radius: 50%;\n",
              "      cursor: pointer;\n",
              "      display: none;\n",
              "      fill: #1967D2;\n",
              "      height: 32px;\n",
              "      padding: 0 0 0 0;\n",
              "      width: 32px;\n",
              "    }\n",
              "\n",
              "    .colab-df-convert:hover {\n",
              "      background-color: #E2EBFA;\n",
              "      box-shadow: 0px 1px 2px rgba(60, 64, 67, 0.3), 0px 1px 3px 1px rgba(60, 64, 67, 0.15);\n",
              "      fill: #174EA6;\n",
              "    }\n",
              "\n",
              "    .colab-df-buttons div {\n",
              "      margin-bottom: 4px;\n",
              "    }\n",
              "\n",
              "    [theme=dark] .colab-df-convert {\n",
              "      background-color: #3B4455;\n",
              "      fill: #D2E3FC;\n",
              "    }\n",
              "\n",
              "    [theme=dark] .colab-df-convert:hover {\n",
              "      background-color: #434B5C;\n",
              "      box-shadow: 0px 1px 3px 1px rgba(0, 0, 0, 0.15);\n",
              "      filter: drop-shadow(0px 1px 2px rgba(0, 0, 0, 0.3));\n",
              "      fill: #FFFFFF;\n",
              "    }\n",
              "  </style>\n",
              "\n",
              "    <script>\n",
              "      const buttonEl =\n",
              "        document.querySelector('#df-a625bcd8-978c-4d4a-954b-3ae57a070d28 button.colab-df-convert');\n",
              "      buttonEl.style.display =\n",
              "        google.colab.kernel.accessAllowed ? 'block' : 'none';\n",
              "\n",
              "      async function convertToInteractive(key) {\n",
              "        const element = document.querySelector('#df-a625bcd8-978c-4d4a-954b-3ae57a070d28');\n",
              "        const dataTable =\n",
              "          await google.colab.kernel.invokeFunction('convertToInteractive',\n",
              "                                                    [key], {});\n",
              "        if (!dataTable) return;\n",
              "\n",
              "        const docLinkHtml = 'Like what you see? Visit the ' +\n",
              "          '<a target=\"_blank\" href=https://colab.research.google.com/notebooks/data_table.ipynb>data table notebook</a>'\n",
              "          + ' to learn more about interactive tables.';\n",
              "        element.innerHTML = '';\n",
              "        dataTable['output_type'] = 'display_data';\n",
              "        await google.colab.output.renderOutput(dataTable, element);\n",
              "        const docLink = document.createElement('div');\n",
              "        docLink.innerHTML = docLinkHtml;\n",
              "        element.appendChild(docLink);\n",
              "      }\n",
              "    </script>\n",
              "  </div>\n",
              "\n",
              "\n",
              "<div id=\"df-1505d53d-7260-411c-8ebf-b4f4378b643a\">\n",
              "  <button class=\"colab-df-quickchart\" onclick=\"quickchart('df-1505d53d-7260-411c-8ebf-b4f4378b643a')\"\n",
              "            title=\"Suggest charts\"\n",
              "            style=\"display:none;\">\n",
              "\n",
              "<svg xmlns=\"http://www.w3.org/2000/svg\" height=\"24px\"viewBox=\"0 0 24 24\"\n",
              "     width=\"24px\">\n",
              "    <g>\n",
              "        <path d=\"M19 3H5c-1.1 0-2 .9-2 2v14c0 1.1.9 2 2 2h14c1.1 0 2-.9 2-2V5c0-1.1-.9-2-2-2zM9 17H7v-7h2v7zm4 0h-2V7h2v10zm4 0h-2v-4h2v4z\"/>\n",
              "    </g>\n",
              "</svg>\n",
              "  </button>\n",
              "\n",
              "<style>\n",
              "  .colab-df-quickchart {\n",
              "      --bg-color: #E8F0FE;\n",
              "      --fill-color: #1967D2;\n",
              "      --hover-bg-color: #E2EBFA;\n",
              "      --hover-fill-color: #174EA6;\n",
              "      --disabled-fill-color: #AAA;\n",
              "      --disabled-bg-color: #DDD;\n",
              "  }\n",
              "\n",
              "  [theme=dark] .colab-df-quickchart {\n",
              "      --bg-color: #3B4455;\n",
              "      --fill-color: #D2E3FC;\n",
              "      --hover-bg-color: #434B5C;\n",
              "      --hover-fill-color: #FFFFFF;\n",
              "      --disabled-bg-color: #3B4455;\n",
              "      --disabled-fill-color: #666;\n",
              "  }\n",
              "\n",
              "  .colab-df-quickchart {\n",
              "    background-color: var(--bg-color);\n",
              "    border: none;\n",
              "    border-radius: 50%;\n",
              "    cursor: pointer;\n",
              "    display: none;\n",
              "    fill: var(--fill-color);\n",
              "    height: 32px;\n",
              "    padding: 0;\n",
              "    width: 32px;\n",
              "  }\n",
              "\n",
              "  .colab-df-quickchart:hover {\n",
              "    background-color: var(--hover-bg-color);\n",
              "    box-shadow: 0 1px 2px rgba(60, 64, 67, 0.3), 0 1px 3px 1px rgba(60, 64, 67, 0.15);\n",
              "    fill: var(--button-hover-fill-color);\n",
              "  }\n",
              "\n",
              "  .colab-df-quickchart-complete:disabled,\n",
              "  .colab-df-quickchart-complete:disabled:hover {\n",
              "    background-color: var(--disabled-bg-color);\n",
              "    fill: var(--disabled-fill-color);\n",
              "    box-shadow: none;\n",
              "  }\n",
              "\n",
              "  .colab-df-spinner {\n",
              "    border: 2px solid var(--fill-color);\n",
              "    border-color: transparent;\n",
              "    border-bottom-color: var(--fill-color);\n",
              "    animation:\n",
              "      spin 1s steps(1) infinite;\n",
              "  }\n",
              "\n",
              "  @keyframes spin {\n",
              "    0% {\n",
              "      border-color: transparent;\n",
              "      border-bottom-color: var(--fill-color);\n",
              "      border-left-color: var(--fill-color);\n",
              "    }\n",
              "    20% {\n",
              "      border-color: transparent;\n",
              "      border-left-color: var(--fill-color);\n",
              "      border-top-color: var(--fill-color);\n",
              "    }\n",
              "    30% {\n",
              "      border-color: transparent;\n",
              "      border-left-color: var(--fill-color);\n",
              "      border-top-color: var(--fill-color);\n",
              "      border-right-color: var(--fill-color);\n",
              "    }\n",
              "    40% {\n",
              "      border-color: transparent;\n",
              "      border-right-color: var(--fill-color);\n",
              "      border-top-color: var(--fill-color);\n",
              "    }\n",
              "    60% {\n",
              "      border-color: transparent;\n",
              "      border-right-color: var(--fill-color);\n",
              "    }\n",
              "    80% {\n",
              "      border-color: transparent;\n",
              "      border-right-color: var(--fill-color);\n",
              "      border-bottom-color: var(--fill-color);\n",
              "    }\n",
              "    90% {\n",
              "      border-color: transparent;\n",
              "      border-bottom-color: var(--fill-color);\n",
              "    }\n",
              "  }\n",
              "</style>\n",
              "\n",
              "  <script>\n",
              "    async function quickchart(key) {\n",
              "      const quickchartButtonEl =\n",
              "        document.querySelector('#' + key + ' button');\n",
              "      quickchartButtonEl.disabled = true;  // To prevent multiple clicks.\n",
              "      quickchartButtonEl.classList.add('colab-df-spinner');\n",
              "      try {\n",
              "        const charts = await google.colab.kernel.invokeFunction(\n",
              "            'suggestCharts', [key], {});\n",
              "      } catch (error) {\n",
              "        console.error('Error during call to suggestCharts:', error);\n",
              "      }\n",
              "      quickchartButtonEl.classList.remove('colab-df-spinner');\n",
              "      quickchartButtonEl.classList.add('colab-df-quickchart-complete');\n",
              "    }\n",
              "    (() => {\n",
              "      let quickchartButtonEl =\n",
              "        document.querySelector('#df-1505d53d-7260-411c-8ebf-b4f4378b643a button');\n",
              "      quickchartButtonEl.style.display =\n",
              "        google.colab.kernel.accessAllowed ? 'block' : 'none';\n",
              "    })();\n",
              "  </script>\n",
              "</div>\n",
              "    </div>\n",
              "  </div>\n"
            ]
          },
          "metadata": {},
          "execution_count": 6
        }
      ]
    },
    {
      "cell_type": "markdown",
      "source": [
        "#### **Usamos pandas para generar un dataframe con la convergencia de cada g_x en 30 iteraciones**"
      ],
      "metadata": {
        "id": "RJeI2jyjy3oI"
      }
    },
    {
      "cell_type": "markdown",
      "source": [
        "#### **Ahora analizamos la convergencia de las 4 funciones con graficas**"
      ],
      "metadata": {
        "id": "3Vt5sgDcnJ6m"
      }
    },
    {
      "cell_type": "code",
      "source": [
        "import matplotlib.pyplot as plt\n",
        "# Creamos una figura para las gráficas\n",
        "\n",
        "plt.figure(figsize=(8, 5))\n",
        "# Gráfico para g1\n",
        "plt.subplot(2, 2, 1)\n",
        "plt.plot(resultados_g1,\"g\" ,label='g1(x)')\n",
        "plt.title('Convergencia de g1(x)')\n",
        "plt.xlabel('Iteración')\n",
        "plt.ylabel('g1(x)')\n",
        "plt.legend()\n",
        "\n",
        "# Gráfico para g2\n",
        "plt.subplot(2, 2, 2)\n",
        "plt.plot(resultados_g2,\"g\", label='g2(x)')\n",
        "plt.title('Convergencia de g2(x)')\n",
        "plt.xlabel('Iteración')\n",
        "plt.ylabel('g2(x)')\n",
        "plt.legend()\n",
        "# Gráfico para g3\n",
        "plt.subplot(2, 2, 3)\n",
        "plt.plot(resultados_g3,\"r\" ,label='g3(x)')\n",
        "plt.title('Convergencia de g3(x)')\n",
        "plt.xlabel('Iteración')\n",
        "plt.ylabel('g3(x)')\n",
        "plt.legend()\n",
        "# Gráfico para g4\n",
        "plt.subplot(2, 2, 4)\n",
        "plt.plot(resultados_g4, \"g\",label='g4(x)')\n",
        "plt.title('Convergencia de g4(x)')\n",
        "plt.xlabel('Iteración')\n",
        "plt.ylabel('g4(x)')\n",
        "plt.legend()\n",
        "# Mostrar las gráficas\n",
        "plt.tight_layout()\n",
        "plt.show()\n",
        "\n"
      ],
      "metadata": {
        "colab": {
          "base_uri": "https://localhost:8080/",
          "height": 507
        },
        "id": "qf46Vw1GkF0K",
        "outputId": "d3695768-0649-4a51-dd34-eaa91a67ebee"
      },
      "execution_count": 7,
      "outputs": [
        {
          "output_type": "display_data",
          "data": {
            "text/plain": [
              "<Figure size 800x500 with 4 Axes>"
            ],
            "image/png": "[encoded data removed]"
          },
          "metadata": {}
        }
      ]
    },
    {
      "cell_type": "markdown",
      "source": [
        "Valor inicial para todas las funciones X = 1.5\n",
        "\n",
        "## **Conclusiones**\n",
        "* Podemos observar que la funcion $ g_1(x) = \\sqrt[3]{6x^2 - 11x + 6} $. comienza a acercarse en la iteracion #10 a 1 y llega a una de las raices reales.\n",
        "*   Tambien observamos que la funcion $ g_2(x) = \\sqrt{\\frac{x^3 + 11x - 6}{6}}$. va convergiendo a 2 (otra raiz real) pero muy lentamente se hicieron 30 iteraciones y apenas se esta acercando a la raiz real (2)\n",
        "*   En la funcion $ g_3(x) = \\frac{x^3 - 6x^2 + 6}{11} $. observamos que se mantiene constante a partir de la iteracion #3 sin embargo no llegamos a ninguna de las raices reales de la funcion original por eso es la que esta de color rojo.\n",
        "*   Tambien observamos que en la iteracion #2 de la funcion $ g_4(x) = x - \\frac{x^3 - 6x^2 + 11x - 6}{3x^2 - 12x + 11} $. obtenemos una de las raices exactas de la funcion original, converge mas rapido debido a que se obtuvo esta funcion a travez de transformar la funcion original en la forma de newton y es el mejor metodo de todos los anteriores.\n",
        "\n",
        "\n",
        " $ g_1(x) $ y $g_4(x) $ parecen ser las mejores funciones para el método del punto fijo en términos de convergencia a las raíces reales como se aprecia en la grafica, pero desde mi punto de vista $g_4(x)$ es la mejor ya que converge mas rapido en tan solo 2 iteraciones.\n",
        "\n"
      ],
      "metadata": {
        "id": "PGFb2uVniJGs"
      }
    },
    {
      "cell_type": "markdown",
      "source": [
        "\n",
        "# 5. Resuelva un problema de aplicacion financiera-actuarial usando el **metodo** de Newton."
      ],
      "metadata": {
        "id": "z7-qjyWf5Fpr"
      }
    },
    {
      "cell_type": "markdown",
      "source": [
        "### **Problema:**\n",
        "\n",
        "Supongamos que un individuo invierte una cantidad de dinero P en un banco que ofrece una tasa de interés anual compuesta r. El monto A que esta inversión se convertirá después de t años viene dado por:\n",
        "\n",
        "$A = P(1+r)^t$\n",
        "\n",
        "Ahora, digamos que un individuo invierte 1000 dolares y después de 5 años, encuentra que su inversión ha crecido a $1500. ¿Cuál es la tasa de interés anual compuesta que le ofreció el banco?\n",
        "\n",
        "Usando la fórmula, podemos expresar esto como:\n",
        "\n",
        "$1500=1000(1+r)^5$\n",
        "\n",
        "Para encontrar r, podemos reformular el problema para que sea cero:\n",
        "$f(r)=1000(1+r)^5−1500=0$\n",
        "Usaremos el método de Newton para encontrar r. La derivada de f(r) respecto a r es:\n",
        "\n",
        "$f'(r)= 5000(1+r)^4$\n",
        "\n",
        " **Método de Newton**\n"
      ],
      "metadata": {
        "id": "rZozKDNm5RVl"
      }
    },
    {
      "cell_type": "code",
      "source": [
        "def f(r):\n",
        "    return 1000*(1 + r)**5 - 1500\n",
        "\n",
        "def df(r):\n",
        "    return 5000*(1 + r)**4\n",
        "\n",
        "def metodo_newton(f, df, r0, tol=1e-5, max_iter=1000):\n",
        "    r = r0\n",
        "    for _ in range(max_iter):\n",
        "        r_new = r - f(r)/df(r)\n",
        "        if abs(r_new - r) < tol:\n",
        "            return r_new\n",
        "        r = r_new\n",
        "    return r\n",
        "r_initial = 0.05  # Una suposición inicial de 5% de interés\n",
        "interest_rate = metodo_newton(f, df, r_initial)\n",
        "print(f\"La tasa de interés anual compuesta aproximada es: {interest_rate * 100:.2f}%\")"
      ],
      "metadata": {
        "colab": {
          "base_uri": "https://localhost:8080/"
        },
        "id": "IeWFKrbD5Pp8",
        "outputId": "44721beb-ce4f-4978-ded8-91d44693c6e0"
      },
      "execution_count": 8,
      "outputs": [
        {
          "output_type": "stream",
          "name": "stdout",
          "text": [
            "La tasa de interés anual compuesta aproximada es: 8.45%\n"
          ]
        }
      ]
    },
    {
      "cell_type": "markdown",
      "source": [
        "Ahora graficaremos el crecimiento del capital para tener una nocion usando la tasa de 8.45%"
      ],
      "metadata": {
        "id": "-YR18avzrSvk"
      }
    },
    {
      "cell_type": "code",
      "source": [
        "import matplotlib.pyplot as plt\n",
        "# Calcular el capital a lo largo de los años\n",
        "\n",
        "years = list(range(6))  # De 0 a 5 años\n",
        "capital = [1000 * (1 + interest_rate)**n for n in years]\n",
        "\n",
        "# Graficar\n",
        "plt.figure(figsize=(8, 5))\n",
        "plt.plot(years, capital,\"darkblue\" ,marker='o')\n",
        "plt.title('Crecimiento del Capital A travez de 5 años')\n",
        "plt.xlabel('Años')\n",
        "plt.ylabel('Capital ($)')\n",
        "plt.grid(True)\n",
        "plt.xticks(years)  # Asegura que solo se muestran los años enteros en el eje x\n",
        "\n",
        "# Mostrar la tasa de interés en el gráfico\n",
        "plt.text(4, capital[5], f\" Tasa: {interest_rate * 100:.2f}%\", ha='right', va='bottom')\n",
        "plt.show()\n",
        "\n",
        "\n"
      ],
      "metadata": {
        "colab": {
          "base_uri": "https://localhost:8080/",
          "height": 487
        },
        "id": "LIJ0tlLrqavz",
        "outputId": "207cd220-2906-4bbf-c964-828c830be2b1"
      },
      "execution_count": 9,
      "outputs": [
        {
          "output_type": "display_data",
          "data": {
            "text/plain": [
              "<Figure size 800x500 with 1 Axes>"
            ],
            "image/png": "[encoded data removed]"
          },
          "metadata": {}
        }
      ]
    },
    {
      "cell_type": "markdown",
      "source": [
        "### **Conclusiones**\n",
        "\n",
        "Usamos el metodo de newton para hallar la tasa de interes usada en el ejercicio de matematicas financiera es un metodo muy factible para hallar valores con una rapida convergencia y mejor precision que cualquier otro metodo"
      ],
      "metadata": {
        "id": "X_uQqFeZ28Mo"
      }
    },
    {
      "cell_type": "markdown",
      "source": [
        "\n",
        "## 6. Muestra un problema donde el metodo de Newton diverja."
      ],
      "metadata": {
        "id": "ysmhPyfI81fv"
      }
    },
    {
      "cell_type": "markdown",
      "source": [
        "Un ejemplo de divergencia en el método de Newton se encuentra al intentar aproximar las raíces de la función:\n",
        "\n",
        "$f(x)= x^3-2x+2$\n",
        "\n",
        "Si intentamos encontrar una raíz cercana a x = 0 utilizando el método de Newton, podemos observar un comportamiento oscilatorio.\n",
        "\n",
        "la derivada $f'(x)=3x^2-2$"
      ],
      "metadata": {
        "id": "KxVGvOKP85fd"
      }
    },
    {
      "cell_type": "code",
      "source": [
        "def f(x):\n",
        "    return x**3 - 2*x + 2\n",
        "\n",
        "def df(x):\n",
        "    return 3*x**2 - 2\n",
        "\n",
        "def newton_method(f, df, x0, tol=1e-5, max_iter=10):\n",
        "    x = x0\n",
        "    results = [x]\n",
        "    for _ in range(max_iter):\n",
        "        x_new = x - f(x)/df(x)\n",
        "        results.append(x_new)\n",
        "        if abs(x_new - x) < tol:\n",
        "            return results\n",
        "        x = x_new\n",
        "    return results\n",
        "\n",
        "x_initial = 0\n",
        "iterations = newton_method(f, df, x_initial)\n",
        "print(iterations)\n"
      ],
      "metadata": {
        "colab": {
          "base_uri": "https://localhost:8080/"
        },
        "id": "sGcMD2rM9ljd",
        "outputId": "d95895e9-bb58-4a99-ebe2-7f2385827fd5"
      },
      "execution_count": 10,
      "outputs": [
        {
          "output_type": "stream",
          "name": "stdout",
          "text": [
            "[0, 1.0, 0.0, 1.0, 0.0, 1.0, 0.0, 1.0, 0.0, 1.0, 0.0]\n"
          ]
        }
      ]
    },
    {
      "cell_type": "markdown",
      "source": [
        "### **Conclusiones**\n",
        "Al ejecutar este código, se observará que los valores oscilan sin acercarse a ninguna raíz, indicando que el método de Newton está divergiendo."
      ],
      "metadata": {
        "id": "5BoeWk5M9u4N"
      }
    },
    {
      "cell_type": "markdown",
      "source": [
        "## 7. Acelere La convergencia de una sucesion usando el metodo de Aitken."
      ],
      "metadata": {
        "id": "5thh-6UQ99Q2"
      }
    },
    {
      "cell_type": "code",
      "source": [
        "def metodo_aitken(sucesion):\n",
        "    n = len(sucesion)\n",
        "    if n < 3:\n",
        "        return sucesion\n",
        "\n",
        "    transformada = []\n",
        "    for i in range(n-2):\n",
        "        numerador = (sucesion[i+1] - sucesion[i])**2\n",
        "        denominador = sucesion[i+2] - 2*sucesion[i+1] + sucesion[i]\n",
        "        if denominador == 0:\n",
        "            y = sucesion[i]\n",
        "        else:\n",
        "            y = sucesion[i] - numerador / denominador\n",
        "        transformada.append(y)\n",
        "    return transformada"
      ],
      "metadata": {
        "id": "1puMHhBl-RlS"
      },
      "execution_count": 11,
      "outputs": []
    },
    {
      "cell_type": "markdown",
      "source": [
        "Supongamos que queremos acelerar la convergencia de la sucesión dada por:\n",
        "$$x_n = \\frac{1}{n}$$\n",
        "\n",
        "\n",
        "Esta sucesión converge a 0, pero lo hace bastante lentamente. Vamos a acelerar su convergencia usando la transformación de Aitken."
      ],
      "metadata": {
        "id": "AgBQXV1r-Bpn"
      }
    },
    {
      "cell_type": "code",
      "source": [
        "# Generar sucesión x_n = 1/n\n",
        "n_values = list(range(1, 24))\n",
        "sucesion = [1/n for n in n_values]\n",
        "\n",
        "# Aplicar transformación de Aitken\n",
        "acelerada = metodo_aitken(sucesion)\n",
        "acelerada.append(0)\n",
        "acelerada.append(0)\n",
        "df = pd.DataFrame({\"Sucesion original\":sucesion , \"Sucesion acelerada\":acelerada})\n",
        "df"
      ],
      "metadata": {
        "colab": {
          "base_uri": "https://localhost:8080/",
          "height": 770
        },
        "id": "ususBbOR-Ts8",
        "outputId": "e6f1ad43-1b05-4857-a27c-33623ed8f0ad"
      },
      "execution_count": 12,
      "outputs": [
        {
          "output_type": "execute_result",
          "data": {
            "text/plain": [
              "    Sucesion original  Sucesion acelerada\n",
              "0            1.000000            0.250000\n",
              "1            0.500000            0.166667\n",
              "2            0.333333            0.125000\n",
              "3            0.250000            0.100000\n",
              "4            0.200000            0.083333\n",
              "5            0.166667            0.071429\n",
              "6            0.142857            0.062500\n",
              "7            0.125000            0.055556\n",
              "8            0.111111            0.050000\n",
              "9            0.100000            0.045455\n",
              "10           0.090909            0.041667\n",
              "11           0.083333            0.038462\n",
              "12           0.076923            0.035714\n",
              "13           0.071429            0.033333\n",
              "14           0.066667            0.031250\n",
              "15           0.062500            0.029412\n",
              "16           0.058824            0.027778\n",
              "17           0.055556            0.026316\n",
              "18           0.052632            0.025000\n",
              "19           0.050000            0.023810\n",
              "20           0.047619            0.022727\n",
              "21           0.045455            0.000000\n",
              "22           0.043478            0.000000"
            ],
            "text/html": [
              "\n",
              "  <div id=\"df-7c5d5ea1-15ab-49ef-a998-3236e0beaf7f\" class=\"colab-df-container\">\n",
              "    <div>\n",
              "<style scoped>\n",
              "    .dataframe tbody tr th:only-of-type {\n",
              "        vertical-align: middle;\n",
              "    }\n",
              "\n",
              "    .dataframe tbody tr th {\n",
              "        vertical-align: top;\n",
              "    }\n",
              "\n",
              "    .dataframe thead th {\n",
              "        text-align: right;\n",
              "    }\n",
              "</style>\n",
              "<table border=\"1\" class=\"dataframe\">\n",
              "  <thead>\n",
              "    <tr style=\"text-align: right;\">\n",
              "      <th></th>\n",
              "      <th>Sucesion original</th>\n",
              "      <th>Sucesion acelerada</th>\n",
              "    </tr>\n",
              "  </thead>\n",
              "  <tbody>\n",
              "    <tr>\n",
              "      <th>0</th>\n",
              "      <td>1.000000</td>\n",
              "      <td>0.250000</td>\n",
              "    </tr>\n",
              "    <tr>\n",
              "      <th>1</th>\n",
              "      <td>0.500000</td>\n",
              "      <td>0.166667</td>\n",
              "    </tr>\n",
              "    <tr>\n",
              "      <th>2</th>\n",
              "      <td>0.333333</td>\n",
              "      <td>0.125000</td>\n",
              "    </tr>\n",
              "    <tr>\n",
              "      <th>3</th>\n",
              "      <td>0.250000</td>\n",
              "      <td>0.100000</td>\n",
              "    </tr>\n",
              "    <tr>\n",
              "      <th>4</th>\n",
              "      <td>0.200000</td>\n",
              "      <td>0.083333</td>\n",
              "    </tr>\n",
              "    <tr>\n",
              "      <th>5</th>\n",
              "      <td>0.166667</td>\n",
              "      <td>0.071429</td>\n",
              "    </tr>\n",
              "    <tr>\n",
              "      <th>6</th>\n",
              "      <td>0.142857</td>\n",
              "      <td>0.062500</td>\n",
              "    </tr>\n",
              "    <tr>\n",
              "      <th>7</th>\n",
              "      <td>0.125000</td>\n",
              "      <td>0.055556</td>\n",
              "    </tr>\n",
              "    <tr>\n",
              "      <th>8</th>\n",
              "      <td>0.111111</td>\n",
              "      <td>0.050000</td>\n",
              "    </tr>\n",
              "    <tr>\n",
              "      <th>9</th>\n",
              "      <td>0.100000</td>\n",
              "      <td>0.045455</td>\n",
              "    </tr>\n",
              "    <tr>\n",
              "      <th>10</th>\n",
              "      <td>0.090909</td>\n",
              "      <td>0.041667</td>\n",
              "    </tr>\n",
              "    <tr>\n",
              "      <th>11</th>\n",
              "      <td>0.083333</td>\n",
              "      <td>0.038462</td>\n",
              "    </tr>\n",
              "    <tr>\n",
              "      <th>12</th>\n",
              "      <td>0.076923</td>\n",
              "      <td>0.035714</td>\n",
              "    </tr>\n",
              "    <tr>\n",
              "      <th>13</th>\n",
              "      <td>0.071429</td>\n",
              "      <td>0.033333</td>\n",
              "    </tr>\n",
              "    <tr>\n",
              "      <th>14</th>\n",
              "      <td>0.066667</td>\n",
              "      <td>0.031250</td>\n",
              "    </tr>\n",
              "    <tr>\n",
              "      <th>15</th>\n",
              "      <td>0.062500</td>\n",
              "      <td>0.029412</td>\n",
              "    </tr>\n",
              "    <tr>\n",
              "      <th>16</th>\n",
              "      <td>0.058824</td>\n",
              "      <td>0.027778</td>\n",
              "    </tr>\n",
              "    <tr>\n",
              "      <th>17</th>\n",
              "      <td>0.055556</td>\n",
              "      <td>0.026316</td>\n",
              "    </tr>\n",
              "    <tr>\n",
              "      <th>18</th>\n",
              "      <td>0.052632</td>\n",
              "      <td>0.025000</td>\n",
              "    </tr>\n",
              "    <tr>\n",
              "      <th>19</th>\n",
              "      <td>0.050000</td>\n",
              "      <td>0.023810</td>\n",
              "    </tr>\n",
              "    <tr>\n",
              "      <th>20</th>\n",
              "      <td>0.047619</td>\n",
              "      <td>0.022727</td>\n",
              "    </tr>\n",
              "    <tr>\n",
              "      <th>21</th>\n",
              "      <td>0.045455</td>\n",
              "      <td>0.000000</td>\n",
              "    </tr>\n",
              "    <tr>\n",
              "      <th>22</th>\n",
              "      <td>0.043478</td>\n",
              "      <td>0.000000</td>\n",
              "    </tr>\n",
              "  </tbody>\n",
              "</table>\n",
              "</div>\n",
              "    <div class=\"colab-df-buttons\">\n",
              "\n",
              "  <div class=\"colab-df-container\">\n",
              "    <button class=\"colab-df-convert\" onclick=\"convertToInteractive('df-7c5d5ea1-15ab-49ef-a998-3236e0beaf7f')\"\n",
              "            title=\"Convert this dataframe to an interactive table.\"\n",
              "            style=\"display:none;\">\n",
              "\n",
              "  <svg xmlns=\"http://www.w3.org/2000/svg\" height=\"24px\" viewBox=\"0 -960 960 960\">\n",
              "    <path d=\"M120-120v-720h720v720H120Zm60-500h600v-160H180v160Zm220 220h160v-160H400v160Zm0 220h160v-160H400v160ZM180-400h160v-160H180v160Zm440 0h160v-160H620v160ZM180-180h160v-160H180v160Zm440 0h160v-160H620v160Z\"/>\n",
              "  </svg>\n",
              "    </button>\n",
              "\n",
              "  <style>\n",
              "    .colab-df-container {\n",
              "      display:flex;\n",
              "      gap: 12px;\n",
              "    }\n",
              "\n",
              "    .colab-df-convert {\n",
              "      background-color: #E8F0FE;\n",
              "      border: none;\n",
              "      border-radius: 50%;\n",
              "      cursor: pointer;\n",
              "      display: none;\n",
              "      fill: #1967D2;\n",
              "      height: 32px;\n",
              "      padding: 0 0 0 0;\n",
              "      width: 32px;\n",
              "    }\n",
              "\n",
              "    .colab-df-convert:hover {\n",
              "      background-color: #E2EBFA;\n",
              "      box-shadow: 0px 1px 2px rgba(60, 64, 67, 0.3), 0px 1px 3px 1px rgba(60, 64, 67, 0.15);\n",
              "      fill: #174EA6;\n",
              "    }\n",
              "\n",
              "    .colab-df-buttons div {\n",
              "      margin-bottom: 4px;\n",
              "    }\n",
              "\n",
              "    [theme=dark] .colab-df-convert {\n",
              "      background-color: #3B4455;\n",
              "      fill: #D2E3FC;\n",
              "    }\n",
              "\n",
              "    [theme=dark] .colab-df-convert:hover {\n",
              "      background-color: #434B5C;\n",
              "      box-shadow: 0px 1px 3px 1px rgba(0, 0, 0, 0.15);\n",
              "      filter: drop-shadow(0px 1px 2px rgba(0, 0, 0, 0.3));\n",
              "      fill: #FFFFFF;\n",
              "    }\n",
              "  </style>\n",
              "\n",
              "    <script>\n",
              "      const buttonEl =\n",
              "        document.querySelector('#df-7c5d5ea1-15ab-49ef-a998-3236e0beaf7f button.colab-df-convert');\n",
              "      buttonEl.style.display =\n",
              "        google.colab.kernel.accessAllowed ? 'block' : 'none';\n",
              "\n",
              "      async function convertToInteractive(key) {\n",
              "        const element = document.querySelector('#df-7c5d5ea1-15ab-49ef-a998-3236e0beaf7f');\n",
              "        const dataTable =\n",
              "          await google.colab.kernel.invokeFunction('convertToInteractive',\n",
              "                                                    [key], {});\n",
              "        if (!dataTable) return;\n",
              "\n",
              "        const docLinkHtml = 'Like what you see? Visit the ' +\n",
              "          '<a target=\"_blank\" href=https://colab.research.google.com/notebooks/data_table.ipynb>data table notebook</a>'\n",
              "          + ' to learn more about interactive tables.';\n",
              "        element.innerHTML = '';\n",
              "        dataTable['output_type'] = 'display_data';\n",
              "        await google.colab.output.renderOutput(dataTable, element);\n",
              "        const docLink = document.createElement('div');\n",
              "        docLink.innerHTML = docLinkHtml;\n",
              "        element.appendChild(docLink);\n",
              "      }\n",
              "    </script>\n",
              "  </div>\n",
              "\n",
              "\n",
              "<div id=\"df-fcd3c4d6-bc9b-4041-9234-ad649cbb61d8\">\n",
              "  <button class=\"colab-df-quickchart\" onclick=\"quickchart('df-fcd3c4d6-bc9b-4041-9234-ad649cbb61d8')\"\n",
              "            title=\"Suggest charts\"\n",
              "            style=\"display:none;\">\n",
              "\n",
              "<svg xmlns=\"http://www.w3.org/2000/svg\" height=\"24px\"viewBox=\"0 0 24 24\"\n",
              "     width=\"24px\">\n",
              "    <g>\n",
              "        <path d=\"M19 3H5c-1.1 0-2 .9-2 2v14c0 1.1.9 2 2 2h14c1.1 0 2-.9 2-2V5c0-1.1-.9-2-2-2zM9 17H7v-7h2v7zm4 0h-2V7h2v10zm4 0h-2v-4h2v4z\"/>\n",
              "    </g>\n",
              "</svg>\n",
              "  </button>\n",
              "\n",
              "<style>\n",
              "  .colab-df-quickchart {\n",
              "      --bg-color: #E8F0FE;\n",
              "      --fill-color: #1967D2;\n",
              "      --hover-bg-color: #E2EBFA;\n",
              "      --hover-fill-color: #174EA6;\n",
              "      --disabled-fill-color: #AAA;\n",
              "      --disabled-bg-color: #DDD;\n",
              "  }\n",
              "\n",
              "  [theme=dark] .colab-df-quickchart {\n",
              "      --bg-color: #3B4455;\n",
              "      --fill-color: #D2E3FC;\n",
              "      --hover-bg-color: #434B5C;\n",
              "      --hover-fill-color: #FFFFFF;\n",
              "      --disabled-bg-color: #3B4455;\n",
              "      --disabled-fill-color: #666;\n",
              "  }\n",
              "\n",
              "  .colab-df-quickchart {\n",
              "    background-color: var(--bg-color);\n",
              "    border: none;\n",
              "    border-radius: 50%;\n",
              "    cursor: pointer;\n",
              "    display: none;\n",
              "    fill: var(--fill-color);\n",
              "    height: 32px;\n",
              "    padding: 0;\n",
              "    width: 32px;\n",
              "  }\n",
              "\n",
              "  .colab-df-quickchart:hover {\n",
              "    background-color: var(--hover-bg-color);\n",
              "    box-shadow: 0 1px 2px rgba(60, 64, 67, 0.3), 0 1px 3px 1px rgba(60, 64, 67, 0.15);\n",
              "    fill: var(--button-hover-fill-color);\n",
              "  }\n",
              "\n",
              "  .colab-df-quickchart-complete:disabled,\n",
              "  .colab-df-quickchart-complete:disabled:hover {\n",
              "    background-color: var(--disabled-bg-color);\n",
              "    fill: var(--disabled-fill-color);\n",
              "    box-shadow: none;\n",
              "  }\n",
              "\n",
              "  .colab-df-spinner {\n",
              "    border: 2px solid var(--fill-color);\n",
              "    border-color: transparent;\n",
              "    border-bottom-color: var(--fill-color);\n",
              "    animation:\n",
              "      spin 1s steps(1) infinite;\n",
              "  }\n",
              "\n",
              "  @keyframes spin {\n",
              "    0% {\n",
              "      border-color: transparent;\n",
              "      border-bottom-color: var(--fill-color);\n",
              "      border-left-color: var(--fill-color);\n",
              "    }\n",
              "    20% {\n",
              "      border-color: transparent;\n",
              "      border-left-color: var(--fill-color);\n",
              "      border-top-color: var(--fill-color);\n",
              "    }\n",
              "    30% {\n",
              "      border-color: transparent;\n",
              "      border-left-color: var(--fill-color);\n",
              "      border-top-color: var(--fill-color);\n",
              "      border-right-color: var(--fill-color);\n",
              "    }\n",
              "    40% {\n",
              "      border-color: transparent;\n",
              "      border-right-color: var(--fill-color);\n",
              "      border-top-color: var(--fill-color);\n",
              "    }\n",
              "    60% {\n",
              "      border-color: transparent;\n",
              "      border-right-color: var(--fill-color);\n",
              "    }\n",
              "    80% {\n",
              "      border-color: transparent;\n",
              "      border-right-color: var(--fill-color);\n",
              "      border-bottom-color: var(--fill-color);\n",
              "    }\n",
              "    90% {\n",
              "      border-color: transparent;\n",
              "      border-bottom-color: var(--fill-color);\n",
              "    }\n",
              "  }\n",
              "</style>\n",
              "\n",
              "  <script>\n",
              "    async function quickchart(key) {\n",
              "      const quickchartButtonEl =\n",
              "        document.querySelector('#' + key + ' button');\n",
              "      quickchartButtonEl.disabled = true;  // To prevent multiple clicks.\n",
              "      quickchartButtonEl.classList.add('colab-df-spinner');\n",
              "      try {\n",
              "        const charts = await google.colab.kernel.invokeFunction(\n",
              "            'suggestCharts', [key], {});\n",
              "      } catch (error) {\n",
              "        console.error('Error during call to suggestCharts:', error);\n",
              "      }\n",
              "      quickchartButtonEl.classList.remove('colab-df-spinner');\n",
              "      quickchartButtonEl.classList.add('colab-df-quickchart-complete');\n",
              "    }\n",
              "    (() => {\n",
              "      let quickchartButtonEl =\n",
              "        document.querySelector('#df-fcd3c4d6-bc9b-4041-9234-ad649cbb61d8 button');\n",
              "      quickchartButtonEl.style.display =\n",
              "        google.colab.kernel.accessAllowed ? 'block' : 'none';\n",
              "    })();\n",
              "  </script>\n",
              "</div>\n",
              "    </div>\n",
              "  </div>\n"
            ]
          },
          "metadata": {},
          "execution_count": 12
        }
      ]
    },
    {
      "source": [
        "from matplotlib import pyplot as plt\n",
        "df['Sucesion original'].head(20).plot(kind='line', figsize=(8, 4), title='Sucesion original')\n",
        "df['Sucesion acelerada'].head(20).plot(kind='line')\n",
        "plt.gca().spines[['top', 'right']].set_visible(False)\n",
        "plt.legend()\n",
        "plt.grid()\n",
        "plt.show()\n"
      ],
      "cell_type": "code",
      "metadata": {
        "colab": {
          "base_uri": "https://localhost:8080/",
          "height": 391
        },
        "id": "IxsaFBAhD1jb",
        "outputId": "a2d1f695-ec29-415b-9cc8-092b15d1ce81"
      },
      "execution_count": 13,
      "outputs": [
        {
          "output_type": "display_data",
          "data": {
            "text/plain": [
              "<Figure size 800x400 with 1 Axes>"
            ],
            "image/png": "[encoded data removed]"
          },
          "metadata": {}
        }
      ]
    },
    {
      "cell_type": "markdown",
      "source": [
        "### **Conclusiones**\n",
        "La sucesión acelerada converge más rápidamente hacia 0 en comparación con la sucesión original. Es importante notar que el método de Aitken no garantiza una convergencia más rápida para todas las sucesiones, pero en muchos casos prácticos, puede mejorar significativamente la velocidad de convergencia."
      ],
      "metadata": {
        "id": "fJfdGQewAatG"
      }
    },
    {
      "cell_type": "markdown",
      "source": [
        "## **8. Combina el metodo de Horner y el metodo de Newton para encontrar los ceros de un polinomio.**"
      ],
      "metadata": {
        "id": "PPz9g44lYRfE"
      }
    },
    {
      "cell_type": "markdown",
      "source": [
        "### Método de Horner y Método de Newton para encontrar ceros de un polinomio\n",
        "\n",
        "En el campo del análisis numérico, a menudo nos encontramos con el desafío de encontrar las raíces de un polinomio. Una forma eficiente de abordar este problema es combinar el método de Horner para la evaluación de polinomios con el método de Newton para encontrar raíces.\n",
        "\n",
        "### Método de Horner para evaluar un polinomio y su derivada\n",
        "\n",
        "El método de Horner es una técnica eficiente para evaluar un polinomio en un punto específico. Dado un polinomio  $P(x) = a_n x^n + a_{n-1} x^{n-1} + ... + a_1 x + a_0 $.\n",
        "\n",
        "El cual nos permite representar este polinomio en la forma anidada:\n",
        "\n",
        "$ P(x) = a_n + x (a_{n-1} + x (a_{n-2} + ... + x (a_1 + x a_0) ...))$\n",
        "\n",
        "### Método de Newton para encontrar raíces\n",
        "\n",
        "El método de Newton es una técnica iterativa utilizada para encontrar una aproximación a una raíz de una función. Se basa en la idea de aproximaciones lineales y se define mediante la fórmula:\n",
        "\n",
        "$ x_{n+1} = x_n - \\frac{f(x_n)}{f'(x_n)} $\n",
        "\n",
        "Aquí,  $f(x_n)$  es el valor de la función en $ x_n $ y $ f'(x_n) $ es el valor de la derivada en $ x_n $.\n",
        "\n",
        "### Combinando ambos métodos:\n",
        "\n",
        "Para encontrar una raíz del polinomio usando el método de Newton, es esencial evaluar tanto el polinomio como su derivada en cada iteración. Usando el método de Horner, podemos hacer esto de manera eficiente y precisa. Al combinar estos métodos, no solo logramos una alta precisión en la búsqueda de raíces, sino también una implementación computacional eficiente.\n"
      ],
      "metadata": {
        "id": "DbhOsilhaShL"
      }
    },
    {
      "cell_type": "markdown",
      "source": [
        "### polinomio a usar para el ejemplo $x^3 - 5x^2 + 2x + 8 = 0$\n",
        "\n",
        "Correspondiente al mismo polinomio del apartado #4"
      ],
      "metadata": {
        "id": "KhC7hpX6eZZO"
      }
    },
    {
      "cell_type": "code",
      "source": [
        "def metodo_horner(coeficientes, x):\n",
        "    \"\"\"Evalúa un polinomio y su derivada usando el método de Horner.\"\"\"\n",
        "    n = len(coeficientes) - 1\n",
        "    p = coeficientes[0]\n",
        "    dp = 0\n",
        "    for i in range(1, n+1):\n",
        "        dp = p + x * dp\n",
        "        p = coeficientes[i] + x * p\n",
        "    return p, dp\n",
        "\n",
        "def metodo_newton(coeficientes, x0, tol=1e-6, iteraciones=100):\n",
        "    \"\"\"Usamos el método de Newton para encontrar una raíz del polinomio.\"\"\"\n",
        "    x = x0\n",
        "    for j in range(iteraciones):\n",
        "        p, dp = metodo_horner(coeficientes, x)\n",
        "        if abs(p) < tol:\n",
        "            return x\n",
        "        x = x - p/dp\n",
        "    raise ValueError(\"El método de Newton no convergió\")\n",
        "\n",
        "coeficientes = [1, -5, 2, 8]\n",
        "valor_iniciales = [0, 1.5 , 3.5]\n",
        "j = 1\n",
        "for valores in valor_iniciales:\n",
        "  root = metodo_newton(coeficientes, valores)\n",
        "  print(f\"Raíz {j} encontrada: {round(root,2)}\")\n",
        "  j += 1"
      ],
      "metadata": {
        "colab": {
          "base_uri": "https://localhost:8080/"
        },
        "id": "HiSr_F0GcmgB",
        "outputId": "a234b28f-9082-49b9-9dd0-39a1e3ea3750"
      },
      "execution_count": 14,
      "outputs": [
        {
          "output_type": "stream",
          "name": "stdout",
          "text": [
            "Raíz 1 encontrada: -1.0\n",
            "Raíz 2 encontrada: 2.0\n",
            "Raíz 3 encontrada: 4.0\n"
          ]
        }
      ]
    },
    {
      "cell_type": "markdown",
      "source": [
        "### **Conclusiones**\n",
        "\n",
        "Utilice 3 valores iniciales diferentes realice las iteraciones correspondiente y cada valor inicial converge a una raiz real del polinomio original, la ventaja de usar horner con Newton es que converge mas rapido que cualquier otro. Tambien es importante saber que punto inicial seleccionar debe ser un valor cercano a la raiz real"
      ],
      "metadata": {
        "id": "imZHsDskfl8F"
      }
    },
    {
      "cell_type": "markdown",
      "source": [
        "## **9. Repite el ejercicio anterior escribiendo el polinomio de forma anidada (cree una funcion que haga este procedimiento para cualquier polinomio). Cuantas operaciones se usan para evaluar el polinomio escrito como en 8, y cuantas se usan escribiendolo en forma anidada.**"
      ],
      "metadata": {
        "id": "8rw8IxBakD2f"
      }
    },
    {
      "cell_type": "markdown",
      "source": [
        "#### Polinomio original  $x^3 - 5x^2 + 2x + 8 = 0$\n",
        "Puede ser reescrito en forma anidada utilizando el método de Horner de la siguiente forma:\n",
        "1. Empezamos con $x^3$ y lo factorizamos como $(x^2-5x + 2)x +8$\n",
        "2. Para el termino $(x^2-5x+2)x$ factorizamos otra vez quedando $((x-5)x+2)x$\n",
        "3. Resultado final quedaria $((x-5)x +2)x +8$\n",
        "\n",
        "Entonces el Polinomio de forma anidada queda de esta forma $((x-5)x +2)x +8$\n"
      ],
      "metadata": {
        "id": "4k9TthZ0mthi"
      }
    },
    {
      "cell_type": "code",
      "source": [
        "#FUNCION QUE HACE EL PROCEDIMIENTO PARA CUALQUIER POLINOMIO\n",
        "def forma_anidada_pol(coef, x):\n",
        "    result = coef[0]\n",
        "    for i in coef[1:]:\n",
        "        result = result * x + i\n",
        "    return result\n",
        "# Coeficientes del polinomio ordenados del término de mayor grado al de menor grado.\n",
        "coeffs = [1,-5, 2,8]  # se puede cambiar los valores de los coeficines para obtener la raiz de cualquier polinomio\n",
        "x_value = 2\n",
        "print(forma_anidada_pol(coeffs, x_value))"
      ],
      "metadata": {
        "colab": {
          "base_uri": "https://localhost:8080/"
        },
        "id": "IxNWPZXKkE9q",
        "outputId": "43ae7127-42cf-4a54-c790-41833eea5785"
      },
      "execution_count": 15,
      "outputs": [
        {
          "output_type": "stream",
          "name": "stdout",
          "text": [
            "0\n"
          ]
        }
      ]
    },
    {
      "cell_type": "markdown",
      "source": [
        "### **Conclusiones**\n",
        "Para evaluar el polinomio $ x^3 - 5x^2 + 2x + 8 $ utilizando el método tradicional (escrito como en la pregunta 8) versus utilizando el método de Horner (forma anidada), podemos contar el número de operaciones aritméticas (multiplicaciones y sumas) que se realizan.\n",
        "\n",
        "**1. Método Tradicional (Forma Estándar):**\n",
        "\n",
        "Para evaluar $x^3$, necesitas 2 multiplicaciones $x \\times x$ para $x^2$, y luego $x^2 \\times x$ para $x^3$.\n",
        "\n",
        "Por lo tanto, para la forma estándar:\n",
        "- Multiplicaciones: 2 para $x^3$ + 1 para $-5x^2$ + 1 para $2x$ = 4 multiplicaciones\n",
        "- Sumas: 3 sumas\n",
        "\n",
        "Total de operaciones = 7 operaciones\n",
        "\n",
        "**2. Método de Horner (Forma Anidada):**\n",
        "\n",
        "Para evaluar usando Horner\n",
        "- Multiplicaciones: 1 para $x \\times (x - 5)$ + 1 para $(resultado) \\times x$ + 1 para $(resultado) \\times x$ = 3 multiplicaciones\n",
        "- Sumas: 1 para sumar -5 + 1 para sumar 2 + 1 para sumar 8 = 3 sumas\n",
        "\n",
        "Total de operaciones = 6 operaciones\n",
        "\n",
        "**Para culminar:**\n",
        "\n",
        "Utilizando el método de Horner, se reducen las operaciones para este polinomio específico:\n",
        "- Forma estándar: 7 operaciones\n",
        "- Forma anidada (Horner): 6 operaciones\n",
        "\n",
        "La forma anidada es más eficiente en términos de operaciones aritméticas necesarias. La ventaja de la forma anidada aumenta con el grado del polinomio, especialmente en polinomios de grados altos en este ejemplo no se aprecia mucha diferencia por ser un Polinomio de Grado 3.\n"
      ],
      "metadata": {
        "id": "mZkX2Bg73lyF"
      }
    },
    {
      "cell_type": "markdown",
      "source": [
        "## **10. Escoge un metodo para resolver ecuaciones en dos variables y aplıquelo a un problema real**"
      ],
      "metadata": {
        "id": "_nZAH0C88ypK"
      }
    },
    {
      "cell_type": "markdown",
      "source": [
        "Imaginemos que estamos trabajando en el diseño de una pieza mecánica que debe encajar en un sistema donde hay dos restricciones espaciales. Una restricción es que la pieza debe ajustarse a una determinada distancia del centro de un mecanismo circular (como una carcasa que debe tener un radio específico), y la otra restricción es que la pieza debe encajar en un perfil con una forma particular (por ejemplo, un soporte o una ranura con una forma cuadrática específica).\n",
        "\n",
        "Aquí están las dos restricciones reformuladas como nuestro sistema de ecuaciones no lineales:\n",
        "1. La primera funcion $f(x,y) = x^2 + y^2 - 4$ puede representar la restricción de que la pieza debe encajar dentro de una carcasa circular de radio 2.\n",
        "  - La ecuacion $x^2 + y^2 = 4$ es la ecuación de un círculo de radio 2 centrado en el origen.\n",
        "2. La segunda función $f(x,y) = x^2 - y - 1$ podría representar una restricción de que la pieza debe ajustarse a un perfil parabólico.\n",
        "  - La parábola es  $y = x^2 - 1$ describe la forma del perfil visto de lado.\n",
        "\n",
        "Resolver el sistema de ecuaciones usando el método de Newton-Raphson nos permitiría encontrar el punto o los puntos exactos donde ambas restricciones se satisfacen, lo que sería crucial para el diseño correcto de la pieza mecánica La solución al sistema de ecuaciones nos da las coordenadas (x, y) de los puntos donde la pieza se ajustaría perfectamente dentro de la carcasa circular y al mismo tiempo encajaría en el perfil parabólico. En la práctica, tal análisis es común en el diseño asistido por computadora (CAD) y la ingeniería mecánica, donde tales problemas se resuelven numéricamente para crear piezas que cumplan con múltiples especificaciones de diseño."
      ],
      "metadata": {
        "id": "jLWC_0xGARaT"
      }
    },
    {
      "cell_type": "markdown",
      "source": [
        "#### Primero debemos calcular las derivadas parciales de cada función con respecto a cada variable para construir el Jacobiano en cada iteración. Aquí están las derivadas parciales:\n",
        "- Derivada parcial de \\( f \\) con respecto a \\( x \\):\n",
        "\n",
        "  $$ \\frac{\\partial f}{\\partial x} = 2x $$\n",
        "\n",
        "- Derivada parcial de \\( f \\) con respecto a \\( y \\):\n",
        "\n",
        "  $$ \\frac{\\partial f}{\\partial y} = 2y $$\n",
        "\n",
        "- Derivada parcial de \\( g \\) con respecto a \\( x \\):\n",
        "\n",
        "  $$ \\frac{\\partial g}{\\partial x} = 2x $$\n",
        "\n",
        "- Derivada parcial de \\( g \\) con respecto a \\( y \\):\n",
        "\n",
        "  $$ \\frac{\\partial g}{\\partial y} = -1 $$\n"
      ],
      "metadata": {
        "id": "t1J5C3ntBvpu"
      }
    },
    {
      "cell_type": "code",
      "source": [
        "# Definición de las funciones\n",
        "def f(x, y):\n",
        "    return x**2 + y**2 - 4\n",
        "def g(x, y):\n",
        "    return x**2 - y - 1\n",
        "# Derivadas parciales\n",
        "def df_dx(x, y):\n",
        "    return 2*x\n",
        "def df_dy(x, y):\n",
        "    return 2*y\n",
        "def dg_dx(x, y):\n",
        "    return 2*x\n",
        "def dg_dy(x, y):\n",
        "    return -1\n",
        "# Método de Newton para dos variables\n",
        "def newton_method_2var(f, g, df_dx, df_dy, dg_dx, dg_dy, x0, y0, tol=1e-6, max_iter=100):\n",
        "    for iteration in range(max_iter):\n",
        "        # Calculamos el valor de las funciones en el punto actual\n",
        "        F = np.array([[f(x0, y0)], [g(x0, y0)]])\n",
        "        # Calculamos el Jacobiano en el punto actual\n",
        "        J = np.array([[df_dx(x0, y0), df_dy(x0, y0)],\n",
        "                      [dg_dx(x0, y0), dg_dy(x0, y0)]])\n",
        "        # Resolvemos el sistema lineal J * [dx, dy] = -F\n",
        "        dx, dy = np.linalg.solve(J, -F).flatten()\n",
        "        # Actualizamos el valor de x e y\n",
        "        x0, y0 = x0 + dx, y0 + dy\n",
        "        # Chequeamos la condición de tolerancia\n",
        "        residual_norm = np.linalg.norm(F, 2)\n",
        "        if residual_norm < tol:\n",
        "            return x0, y0\n",
        "    raise ValueError(\"No se encontró solución\")\n",
        "# Punto inicial\n",
        "x0, y0 = 1,1\n",
        "max_iter = 100\n",
        "# Aplicamos el método\n",
        "x_sol, y_sol = newton_method_2var(f, g, df_dx, df_dy, dg_dx, dg_dy, x0, y0)\n",
        "print(f\"La solución es x = {round(x_sol,1)}, y = {round(y_sol,1)}\")"
      ],
      "metadata": {
        "colab": {
          "base_uri": "https://localhost:8080/"
        },
        "id": "sH3i40th8_Df",
        "outputId": "fc88ce1c-926b-4aca-c4a3-74120ff65421"
      },
      "execution_count": 16,
      "outputs": [
        {
          "output_type": "stream",
          "name": "stdout",
          "text": [
            "La solución es x = 1.5, y = 1.3\n"
          ]
        }
      ]
    },
    {
      "cell_type": "code",
      "source": [
        "import numpy as np\n",
        "import matplotlib.pyplot as plt\n",
        "from sympy import symbols, Eq, solve\n",
        "x = np.linspace(-3, 3, 400)\n",
        "y_parabola = x**2 - 1  # Ecuación de la parábola\n",
        "# Grafica la parábola\n",
        "plt.plot(x, y_parabola, label='Parábola: y = x^2 - 1', color='red')\n",
        "x_circle = np.linspace(-2, 2, 400)\n",
        "y_circle_pos = np.sqrt(4 - x_circle**2)  # Parte positiva de la raíz cuadrada para el círculo\n",
        "y_circle_neg = -np.sqrt(4 - x_circle**2) # Parte negativa de la raíz cuadrada para el círculo\n",
        "# Grafica el círculo\n",
        "plt.plot(x_circle, y_circle_pos, label='Círculo: y = sqrt(4 - x^2)', color='blue')\n",
        "plt.plot(x_circle, y_circle_neg, color='blue')\n",
        "# Ajusta los límites del gráfico\n",
        "plt.xlim([-3, 3])\n",
        "plt.ylim([-3, 3])\n",
        "# Agregamos una leyenda\n",
        "plt.legend()\n",
        "# Agrega una cuadrícula\n",
        "plt.grid(True)\n",
        "# Agrega etiquetas a los ejes\n",
        "plt.xlabel('x')\n",
        "plt.ylabel('y')\n",
        "# Encuentra las intersecciones utilizando sympy\n",
        "x_sym, y_sym = symbols('x y', real=True)\n",
        "circle_eq = Eq(x_sym**2 + y_sym**2, 4)\n",
        "parabola_eq = Eq(y_sym, x_sym**2 - 1)\n",
        "# Resuelve el sistema de ecuaciones\n",
        "solutions = solve((circle_eq, parabola_eq), (x_sym, y_sym), dict=True)\n",
        "# Filtra y grafica solo las soluciones reales\n",
        "for sol in solutions:\n",
        "    x_val = sol[x_sym]\n",
        "    y_val = sol[y_sym]\n",
        "    # Verifica si la solución es real\n",
        "    if x_val.is_real and y_val.is_real:\n",
        "        print(f\"Solución: x = {x_val.evalf()}, y = {y_val.evalf()}\")\n",
        "        # Marca las soluciones en el gráfico\n",
        "        plt.plot(x_val.evalf(), y_val.evalf(), 'ko')  # 'ko' para puntos negros\n",
        "    else:\n",
        "        print(f\"Solución compleja descartada: x = {x_val.evalf()}, y = {y_val.evalf()}\")\n",
        "# Muestra el gráfico\n",
        "plt.show()\n"
      ],
      "metadata": {
        "colab": {
          "base_uri": "https://localhost:8080/",
          "height": 490
        },
        "id": "zWPx3jAs6V8c",
        "outputId": "f6d2842f-08a9-408d-ab16-4bdfce11a2d4"
      },
      "execution_count": 17,
      "outputs": [
        {
          "output_type": "stream",
          "name": "stdout",
          "text": [
            "Solución: x = -1.51748991355198, y = 1.30277563773199\n",
            "Solución: x = 1.51748991355198, y = 1.30277563773199\n"
          ]
        },
        {
          "output_type": "display_data",
          "data": {
            "text/plain": [
              "<Figure size 640x480 with 1 Axes>"
            ],
            "image/png": "[encoded data removed]"
          },
          "metadata": {}
        }
      ]
    },
    {
      "cell_type": "markdown",
      "source": [
        "## **Conclusiones**\n",
        "\n",
        "las dimensiones obtenidas de (1.5, 1.3) implican que la pieza diseñada se ajustará bastante cerca de la carcasa circular y el perfil parabólico que especificaste. En un entorno de diseño asistido por computadora (CAD), estos valores se podrían utilizar para crear un modelo 3D de la pieza, que luego se verificaría con simulaciones o se ajustaría con más iteraciones si es necesario."
      ],
      "metadata": {
        "id": "lFfBHfIZuWH9"
      }
    }
  ]
}